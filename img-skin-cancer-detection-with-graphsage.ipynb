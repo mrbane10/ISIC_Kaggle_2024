{
 "cells": [
  {
   "cell_type": "code",
   "execution_count": 1,
   "id": "75645262",
   "metadata": {
    "_cell_guid": "b1076dfc-b9ad-4769-8c92-a6c4dae69d19",
    "_uuid": "8f2839f25d086af736a60e9eeb907d3b93b6e0e5",
    "execution": {
     "iopub.execute_input": "2024-07-26T04:33:16.322085Z",
     "iopub.status.busy": "2024-07-26T04:33:16.321574Z",
     "iopub.status.idle": "2024-07-26T04:33:31.058957Z",
     "shell.execute_reply": "2024-07-26T04:33:31.057823Z"
    },
    "papermill": {
     "duration": 14.749704,
     "end_time": "2024-07-26T04:33:31.061625",
     "exception": false,
     "start_time": "2024-07-26T04:33:16.311921",
     "status": "completed"
    },
    "tags": []
   },
   "outputs": [
    {
     "name": "stdout",
     "output_type": "stream",
     "text": [
      "Looking in links: /kaggle/input/pytorch-geometric-packages\r\n",
      "Processing /kaggle/input/pytorch-geometric-packages/torch_scatter-2.1.2-cp310-cp310-linux_x86_64.whl\r\n",
      "Processing /kaggle/input/pytorch-geometric-packages/torch_sparse-0.6.18-cp310-cp310-linux_x86_64.whl\r\n",
      "Processing /kaggle/input/pytorch-geometric-packages/torch_cluster-1.6.3-cp310-cp310-linux_x86_64.whl\r\n",
      "Processing /kaggle/input/pytorch-geometric-packages/torch_spline_conv-1.2.2-cp310-cp310-linux_x86_64.whl\r\n",
      "Processing /kaggle/input/pytorch-geometric-packages/torch_geometric-2.5.3-py3-none-any.whl\r\n",
      "Requirement already satisfied: scipy in /opt/conda/lib/python3.10/site-packages (from torch-sparse) (1.11.4)\r\n",
      "Requirement already satisfied: tqdm in /opt/conda/lib/python3.10/site-packages (from torch-geometric) (4.66.4)\r\n",
      "Requirement already satisfied: numpy in /opt/conda/lib/python3.10/site-packages (from torch-geometric) (1.26.4)\r\n",
      "Requirement already satisfied: fsspec in /opt/conda/lib/python3.10/site-packages (from torch-geometric) (2024.5.0)\r\n",
      "Requirement already satisfied: jinja2 in /opt/conda/lib/python3.10/site-packages (from torch-geometric) (3.1.2)\r\n",
      "Requirement already satisfied: aiohttp in /opt/conda/lib/python3.10/site-packages (from torch-geometric) (3.9.1)\r\n",
      "Requirement already satisfied: requests in /opt/conda/lib/python3.10/site-packages (from torch-geometric) (2.32.3)\r\n",
      "Requirement already satisfied: pyparsing in /opt/conda/lib/python3.10/site-packages (from torch-geometric) (3.1.1)\r\n",
      "Requirement already satisfied: scikit-learn in /opt/conda/lib/python3.10/site-packages (from torch-geometric) (1.2.2)\r\n",
      "Requirement already satisfied: psutil>=5.8.0 in /opt/conda/lib/python3.10/site-packages (from torch-geometric) (5.9.3)\r\n",
      "Requirement already satisfied: attrs>=17.3.0 in /opt/conda/lib/python3.10/site-packages (from aiohttp->torch-geometric) (23.2.0)\r\n",
      "Requirement already satisfied: multidict<7.0,>=4.5 in /opt/conda/lib/python3.10/site-packages (from aiohttp->torch-geometric) (6.0.4)\r\n",
      "Requirement already satisfied: yarl<2.0,>=1.0 in /opt/conda/lib/python3.10/site-packages (from aiohttp->torch-geometric) (1.9.3)\r\n",
      "Requirement already satisfied: frozenlist>=1.1.1 in /opt/conda/lib/python3.10/site-packages (from aiohttp->torch-geometric) (1.4.1)\r\n",
      "Requirement already satisfied: aiosignal>=1.1.2 in /opt/conda/lib/python3.10/site-packages (from aiohttp->torch-geometric) (1.3.1)\r\n",
      "Requirement already satisfied: async-timeout<5.0,>=4.0 in /opt/conda/lib/python3.10/site-packages (from aiohttp->torch-geometric) (4.0.3)\r\n",
      "Requirement already satisfied: MarkupSafe>=2.0 in /opt/conda/lib/python3.10/site-packages (from jinja2->torch-geometric) (2.1.3)\r\n",
      "Requirement already satisfied: charset-normalizer<4,>=2 in /opt/conda/lib/python3.10/site-packages (from requests->torch-geometric) (3.3.2)\r\n",
      "Requirement already satisfied: idna<4,>=2.5 in /opt/conda/lib/python3.10/site-packages (from requests->torch-geometric) (3.6)\r\n",
      "Requirement already satisfied: urllib3<3,>=1.21.1 in /opt/conda/lib/python3.10/site-packages (from requests->torch-geometric) (1.26.18)\r\n",
      "Requirement already satisfied: certifi>=2017.4.17 in /opt/conda/lib/python3.10/site-packages (from requests->torch-geometric) (2024.7.4)\r\n",
      "Requirement already satisfied: joblib>=1.1.1 in /opt/conda/lib/python3.10/site-packages (from scikit-learn->torch-geometric) (1.4.2)\r\n",
      "Requirement already satisfied: threadpoolctl>=2.0.0 in /opt/conda/lib/python3.10/site-packages (from scikit-learn->torch-geometric) (3.2.0)\r\n",
      "Installing collected packages: torch-spline-conv, torch-scatter, torch-sparse, torch-cluster, torch-geometric\r\n",
      "Successfully installed torch-cluster-1.6.3 torch-geometric-2.5.3 torch-scatter-2.1.2 torch-sparse-0.6.18 torch-spline-conv-1.2.2\r\n"
     ]
    }
   ],
   "source": [
    "!pip install torch-scatter torch-sparse torch-cluster torch-spline-conv torch-geometric --no-index --find-links=/kaggle/input/pytorch-geometric-packages"
   ]
  },
  {
   "cell_type": "code",
   "execution_count": 2,
   "id": "b6766de0",
   "metadata": {
    "execution": {
     "iopub.execute_input": "2024-07-26T04:33:31.081240Z",
     "iopub.status.busy": "2024-07-26T04:33:31.080697Z",
     "iopub.status.idle": "2024-07-26T04:33:40.190909Z",
     "shell.execute_reply": "2024-07-26T04:33:40.190094Z"
    },
    "papermill": {
     "duration": 9.122498,
     "end_time": "2024-07-26T04:33:40.193347",
     "exception": false,
     "start_time": "2024-07-26T04:33:31.070849",
     "status": "completed"
    },
    "tags": []
   },
   "outputs": [],
   "source": [
    "import torch\n",
    "import torch.nn as nn\n",
    "import torch.nn.functional as F\n",
    "import torch.optim as optim\n",
    "import numpy as np\n",
    "import torch_geometric\n",
    "from torch_geometric.data import Data\n",
    "from torch_geometric.loader import DataLoader\n",
    "from torch_geometric.nn import GATConv, GCNConv, LayerNorm, GraphNorm, InstanceNorm\n",
    "from torch_geometric.nn.models import GAT, GraphSAGE, PMLP\n",
    "from torch_geometric.nn.pool import max_pool\n",
    "from torch_geometric.nn.norm import BatchNorm\n",
    "from torch_geometric.utils import to_dense_adj\n",
    "from torch_geometric.utils import dropout_edge\n",
    "from scipy.spatial import distance_matrix\n",
    "import networkx as nx\n",
    "import os\n",
    "os.environ['CUDA_LAUNCH_BLOCKING'] = \"1\"\n",
    "from sklearn.metrics import roc_curve, auc, roc_auc_score\n",
    "from sklearn.model_selection import GroupKFold, StratifiedGroupKFold\n",
    "from torchvision.models.feature_extraction import create_feature_extractor\n",
    "from torch_geometric.nn.pool import global_max_pool\n",
    "\n",
    "import matplotlib.pyplot as plt\n",
    "import pandas as pd\n",
    "import seaborn as sns\n",
    "import warnings\n",
    "warnings.filterwarnings('ignore')\n",
    "from tqdm import tqdm\n",
    "from sklearn.preprocessing import StandardScaler, OrdinalEncoder\n",
    "import random"
   ]
  },
  {
   "cell_type": "markdown",
   "id": "023c5da9",
   "metadata": {
    "papermill": {
     "duration": 0.008508,
     "end_time": "2024-07-26T04:33:40.210969",
     "exception": false,
     "start_time": "2024-07-26T04:33:40.202461",
     "status": "completed"
    },
    "tags": []
   },
   "source": [
    "## Config"
   ]
  },
  {
   "cell_type": "code",
   "execution_count": 3,
   "id": "02acc4fd",
   "metadata": {
    "execution": {
     "iopub.execute_input": "2024-07-26T04:33:40.229703Z",
     "iopub.status.busy": "2024-07-26T04:33:40.229213Z",
     "iopub.status.idle": "2024-07-26T04:33:40.233688Z",
     "shell.execute_reply": "2024-07-26T04:33:40.232843Z"
    },
    "papermill": {
     "duration": 0.01606,
     "end_time": "2024-07-26T04:33:40.235631",
     "exception": false,
     "start_time": "2024-07-26T04:33:40.219571",
     "status": "completed"
    },
    "tags": []
   },
   "outputs": [],
   "source": [
    "batch_size = 10\n",
    "num_epochs = 50\n",
    "kfold = 5\n",
    "alpha = 0.25\n",
    "gamma = 2\n",
    "beta = 0.1"
   ]
  },
  {
   "cell_type": "markdown",
   "id": "47f49a56",
   "metadata": {
    "papermill": {
     "duration": 0.00844,
     "end_time": "2024-07-26T04:33:40.252786",
     "exception": false,
     "start_time": "2024-07-26T04:33:40.244346",
     "status": "completed"
    },
    "tags": []
   },
   "source": [
    "## Modeling"
   ]
  },
  {
   "cell_type": "markdown",
   "id": "70dccfb0",
   "metadata": {
    "papermill": {
     "duration": 0.008314,
     "end_time": "2024-07-26T04:33:40.269754",
     "exception": false,
     "start_time": "2024-07-26T04:33:40.261440",
     "status": "completed"
    },
    "tags": []
   },
   "source": [
    "### Prepare data"
   ]
  },
  {
   "cell_type": "code",
   "execution_count": 4,
   "id": "cedf854f",
   "metadata": {
    "execution": {
     "iopub.execute_input": "2024-07-26T04:33:40.289464Z",
     "iopub.status.busy": "2024-07-26T04:33:40.288831Z",
     "iopub.status.idle": "2024-07-26T04:33:47.224693Z",
     "shell.execute_reply": "2024-07-26T04:33:47.223690Z"
    },
    "papermill": {
     "duration": 6.947768,
     "end_time": "2024-07-26T04:33:47.227149",
     "exception": false,
     "start_time": "2024-07-26T04:33:40.279381",
     "status": "completed"
    },
    "tags": []
   },
   "outputs": [],
   "source": [
    "df = pd.read_csv('/kaggle/input/isic-2024-challenge/train-metadata.csv')"
   ]
  },
  {
   "cell_type": "code",
   "execution_count": 5,
   "id": "de0afbd0",
   "metadata": {
    "execution": {
     "iopub.execute_input": "2024-07-26T04:33:47.246646Z",
     "iopub.status.busy": "2024-07-26T04:33:47.245942Z",
     "iopub.status.idle": "2024-07-26T04:33:47.579602Z",
     "shell.execute_reply": "2024-07-26T04:33:47.578607Z"
    },
    "papermill": {
     "duration": 0.345783,
     "end_time": "2024-07-26T04:33:47.582063",
     "exception": false,
     "start_time": "2024-07-26T04:33:47.236280",
     "status": "completed"
    },
    "tags": []
   },
   "outputs": [],
   "source": [
    "num_positive = df[df.target == 1].shape[0]\n",
    "num_negative = df[df.target == 0].shape[0]\n",
    "total = num_positive + num_negative\n",
    "class_weight = torch.tensor([total/num_negative, total/num_positive]).cuda()"
   ]
  },
  {
   "cell_type": "code",
   "execution_count": 6,
   "id": "db0882ed",
   "metadata": {
    "execution": {
     "iopub.execute_input": "2024-07-26T04:33:47.601385Z",
     "iopub.status.busy": "2024-07-26T04:33:47.600619Z",
     "iopub.status.idle": "2024-07-26T04:33:47.604846Z",
     "shell.execute_reply": "2024-07-26T04:33:47.604019Z"
    },
    "papermill": {
     "duration": 0.015566,
     "end_time": "2024-07-26T04:33:47.606650",
     "exception": false,
     "start_time": "2024-07-26T04:33:47.591084",
     "status": "completed"
    },
    "tags": []
   },
   "outputs": [],
   "source": [
    "#df_eff = pd.read_csv(\"/kaggle/input/skin-cancer-image-model-output/output_eff.csv\")\n",
    "#df_eff = pd.concat([df.copy(), df_eff], axis=1)\n",
    "#df_eff = df_eff[['patient_id', \"target_effnetv1b0\"]]\n",
    "#df_eva = pd.read_csv(\"/kaggle/input/skin-cancer-image-model-output/output_eva.csv\")\n",
    "#df_eva = pd.concat([df.copy(), df_eva], axis=1)\n",
    "#df_eva = df_eva[['patient_id', \"target_eva02\"]]"
   ]
  },
  {
   "cell_type": "code",
   "execution_count": 7,
   "id": "fa5f6648",
   "metadata": {
    "execution": {
     "iopub.execute_input": "2024-07-26T04:33:47.624888Z",
     "iopub.status.busy": "2024-07-26T04:33:47.624611Z",
     "iopub.status.idle": "2024-07-26T04:34:59.323463Z",
     "shell.execute_reply": "2024-07-26T04:34:59.322320Z"
    },
    "papermill": {
     "duration": 71.710276,
     "end_time": "2024-07-26T04:34:59.325527",
     "exception": false,
     "start_time": "2024-07-26T04:33:47.615251",
     "status": "completed"
    },
    "tags": []
   },
   "outputs": [
    {
     "name": "stderr",
     "output_type": "stream",
     "text": [
      "100%|██████████| 1042/1042 [01:11<00:00, 14.54it/s]\n"
     ]
    }
   ],
   "source": [
    "data = []\n",
    "label_img = []\n",
    "label_node = []\n",
    "data_size = []\n",
    "for id_ in tqdm(df.patient_id.unique()):\n",
    "    data_i = df[df.patient_id == id_]\n",
    "    label_node.append(np.array(data_i.target))\n",
    "    label_img.append(data_i.target.max())\n",
    "    data.append(data_i)\n",
    "    data_size.append(data_i.shape[0])"
   ]
  },
  {
   "cell_type": "code",
   "execution_count": 8,
   "id": "9b4757c9",
   "metadata": {
    "execution": {
     "iopub.execute_input": "2024-07-26T04:34:59.426255Z",
     "iopub.status.busy": "2024-07-26T04:34:59.425695Z",
     "iopub.status.idle": "2024-07-26T04:35:16.132303Z",
     "shell.execute_reply": "2024-07-26T04:35:16.131355Z"
    },
    "papermill": {
     "duration": 16.758799,
     "end_time": "2024-07-26T04:35:16.134235",
     "exception": false,
     "start_time": "2024-07-26T04:34:59.375436",
     "status": "completed"
    },
    "tags": []
   },
   "outputs": [
    {
     "name": "stderr",
     "output_type": "stream",
     "text": [
      "1042it [00:16, 62.41it/s]\n"
     ]
    }
   ],
   "source": [
    "data_list = []\n",
    "for i, data_ in tqdm(enumerate(data)):\n",
    "    id_ = data_.patient_id.iloc[0]\n",
    "    node_label = torch.tensor(np.array(data_.target))\n",
    "    #node_label = torch.tensor(np.array(data_.target.max()))\n",
    "    #node_feature_eff = np.array(df_eff[df.patient_id == id_]['target_effnetv1b0'])[:, None].astype('float32')\n",
    "    #node_feature_eva = np.array(df_eva[df.patient_id == id_]['target_eva02'])[:, None].astype('float32')\n",
    "    #node_feature_meta = torch.tensor(np.load(f'/kaggle/input/skin-cancer-graph-efficientnet/node_features/{id_}_node_feature_meta.npy').astype('float32'))\n",
    "    #node_feature = torch.tensor(np.concatenate([node_feature_eff, node_feature_eva], axis=-1))\n",
    "    node_feature = torch.tensor(np.load(f'/kaggle/input/skin-cancer-graph-efficientnet/node_features/{id_}_node_feature_img.npy').astype('float32'))\n",
    "    edge_index = torch.tensor(np.load(f'/kaggle/input/img-patient-wise-structural-relation-of-skin-c/pos/{id_}_edge_index.npy'))\n",
    "    pos = torch.tensor(np.load(f'/kaggle/input/img-patient-wise-structural-relation-of-skin-c/edge_index/{id_}_pos.npy').astype('float32'))\n",
    "    graph = Data(x=node_feature, y = node_label, pos=pos, edge_index=edge_index)\n",
    "    data_list.append(graph)"
   ]
  },
  {
   "cell_type": "code",
   "execution_count": null,
   "id": "1518860d",
   "metadata": {
    "papermill": {
     "duration": 0.057947,
     "end_time": "2024-07-26T04:35:16.252578",
     "exception": false,
     "start_time": "2024-07-26T04:35:16.194631",
     "status": "completed"
    },
    "tags": []
   },
   "outputs": [],
   "source": []
  },
  {
   "cell_type": "markdown",
   "id": "522f4623",
   "metadata": {
    "papermill": {
     "duration": 0.058212,
     "end_time": "2024-07-26T04:35:16.369453",
     "exception": false,
     "start_time": "2024-07-26T04:35:16.311241",
     "status": "completed"
    },
    "tags": []
   },
   "source": [
    "### Build Model"
   ]
  },
  {
   "cell_type": "code",
   "execution_count": 9,
   "id": "72df1fd5",
   "metadata": {
    "execution": {
     "iopub.execute_input": "2024-07-26T04:35:16.532405Z",
     "iopub.status.busy": "2024-07-26T04:35:16.531555Z",
     "iopub.status.idle": "2024-07-26T04:35:16.542927Z",
     "shell.execute_reply": "2024-07-26T04:35:16.542043Z"
    },
    "papermill": {
     "duration": 0.116942,
     "end_time": "2024-07-26T04:35:16.544872",
     "exception": false,
     "start_time": "2024-07-26T04:35:16.427930",
     "status": "completed"
    },
    "tags": []
   },
   "outputs": [],
   "source": [
    "class FocalLoss(torch.nn.Module):\n",
    "    def __init__(self, alpha=1, gamma=2, reduction='sum'):\n",
    "        super(FocalLoss, self).__init__()\n",
    "        self.alpha = alpha\n",
    "        self.gamma = gamma\n",
    "        self.reduction = reduction\n",
    "\n",
    "    def forward(self, inputs, targets):\n",
    "        CE_loss = F.cross_entropy(inputs, targets, weight = class_weight, reduction='none')\n",
    "        pt = torch.exp(-CE_loss)\n",
    "        F_loss = self.alpha * (1 - pt) ** self.gamma * CE_loss\n",
    "\n",
    "        if self.reduction == 'mean':\n",
    "            return F_loss.mean()\n",
    "        elif self.reduction == 'sum':\n",
    "            return F_loss.sum()/batch_size\n",
    "        else:\n",
    "            return F_loss\n",
    "        \n",
    "        \n",
    "def graph_laplacian_loss(node_embeddings, batch):\n",
    "    edge_index = batch.edge_index.cuda()\n",
    "    batch = batch.batch.cuda()\n",
    "    if edge_index.shape[0]==0:\n",
    "        return torch.tensor(0.)\n",
    "    adjacency_matrix = to_dense_adj(edge_index, batch=batch)\n",
    "    degree_matrix = torch.diag(adjacency_matrix.sum(dim=1))\n",
    "    laplacian_matrix = degree_matrix - adjacency_matrix\n",
    "    smoothness_loss = torch.trace(torch.matmul(node_embeddings.T, torch.matmul(laplacian_matrix, node_embeddings)))\n",
    "    return smoothness_loss\n",
    "\n",
    "\n",
    "def augmentation(edge_index, p=0.4):\n",
    "    edge_index, edge_attr = dropout_edge(edge_index, p=p)\n",
    "    return edge_index\n",
    "\n",
    "\n",
    "def entropy_loss(logits):\n",
    "    p = logits.softmax(dim=-1)\n",
    "    loss = torch.sum(- p *p.log())/batch_size\n",
    "    return loss"
   ]
  },
  {
   "cell_type": "code",
   "execution_count": 10,
   "id": "0ae2b9a3",
   "metadata": {
    "execution": {
     "iopub.execute_input": "2024-07-26T04:35:16.665860Z",
     "iopub.status.busy": "2024-07-26T04:35:16.665532Z",
     "iopub.status.idle": "2024-07-26T04:35:16.685023Z",
     "shell.execute_reply": "2024-07-26T04:35:16.684047Z"
    },
    "papermill": {
     "duration": 0.083008,
     "end_time": "2024-07-26T04:35:16.687049",
     "exception": false,
     "start_time": "2024-07-26T04:35:16.604041",
     "status": "completed"
    },
    "tags": []
   },
   "outputs": [],
   "source": [
    "class GNN_Model(nn.Module):\n",
    "    def __init__(self, in_channels = 128, hidden_channels = 128, out_channels = 2):\n",
    "        super().__init__()\n",
    "        self.in_channels = in_channels\n",
    "        self.graphsage = GraphSAGE(in_channels, hidden_channels,\n",
    "                    6, out_channels, jk='lstm', norm = LayerNorm(hidden_channels),\n",
    "                    dropout = 0.3,  normalize=True)\n",
    "\n",
    "    def forward(self, data):\n",
    "        x, edge_index, batch = data.x, data.edge_index, data.batch\n",
    "        \n",
    "        if edge_index.shape[0]==0:\n",
    "            edge_index = torch.tensor([[0, 0]]).T.cuda()\n",
    "        x = x.cuda()\n",
    "        edge_index = edge_index.cuda()\n",
    "        batch = batch.cuda()\n",
    "        logits = self.graphsage(x, edge_index, batch=batch)\n",
    "        return logits\n",
    "        \n",
    "    \n",
    "    def predict(self, batch):\n",
    "        with torch.no_grad():\n",
    "            logits = self.forward(batch)\n",
    "            pred = logits.softmax(dim=-1)[:, 1]\n",
    "        return pred\n",
    "    \n",
    "    def fit(self, train_loader, optimizer, fold):\n",
    "        scheduler = optim.lr_scheduler.ExponentialLR(optimizer, gamma=0.9)\n",
    "        best_score = 0.\n",
    "        count=0\n",
    "        for epoch in range(num_epochs):\n",
    "            loop = tqdm(train_loader)\n",
    "            self.train()\n",
    "            for batch in loop:\n",
    "                y = batch.y.cuda()\n",
    "                logits = self.forward(batch)\n",
    "                l_cls = FocalLoss(alpha = alpha, gamma=gamma)(logits, y)\n",
    "                l_ent = entropy_loss(logits)\n",
    "                loss = l_cls + l_ent\n",
    "                #loss = nn.CrossEntropyLoss(weight=class_weight)(logits, y)\n",
    "                optimizer.zero_grad()\n",
    "                loss.backward()\n",
    "                optimizer.step()\n",
    "                torch.cuda.empty_cache()\n",
    "                loop.set_postfix(loss=f'epoch: {epoch}--loss: {loss} --l_cls: {l_cls} -- l_ent: {l_ent}')\n",
    "            scheduler.step()\n",
    "            if epoch%1==0:\n",
    "                self.eval()\n",
    "                labels = []\n",
    "                preds = []\n",
    "                for batch in valid_loader:\n",
    "                    label = batch.y\n",
    "                    pred = self.predict(batch)\n",
    "                    preds.append(pred)\n",
    "                    labels.append(label)\n",
    "                    torch.cuda.empty_cache()\n",
    "                preds = torch.cat(preds).cpu().numpy()\n",
    "                labels = torch.cat(labels).cpu().numpy()\n",
    "                score = comp_score(pd.DataFrame(labels, columns = ['target']),\n",
    "                                   pd.DataFrame(preds, columns=[\"prediction\"]), \"\")\n",
    "                \n",
    "                if score>best_score:\n",
    "                    count=0\n",
    "                    best_score = score\n",
    "                    torch.save(self.state_dict(), f'/kaggle/working/model_{fold}.pt')\n",
    "                else:\n",
    "                    count+=1\n",
    "                    if count==6:\n",
    "                        break\n",
    "                print(f\"epoch: {epoch} - Partial AUC Score: {score:.5f}\")"
   ]
  },
  {
   "cell_type": "markdown",
   "id": "8e199b9e",
   "metadata": {
    "papermill": {
     "duration": 0.059078,
     "end_time": "2024-07-26T04:35:16.813222",
     "exception": false,
     "start_time": "2024-07-26T04:35:16.754144",
     "status": "completed"
    },
    "tags": []
   },
   "source": [
    "### Kfold Validation"
   ]
  },
  {
   "cell_type": "code",
   "execution_count": 11,
   "id": "d7154a60",
   "metadata": {
    "execution": {
     "iopub.execute_input": "2024-07-26T04:35:16.931532Z",
     "iopub.status.busy": "2024-07-26T04:35:16.931248Z",
     "iopub.status.idle": "2024-07-26T04:35:16.936412Z",
     "shell.execute_reply": "2024-07-26T04:35:16.935625Z"
    },
    "papermill": {
     "duration": 0.066314,
     "end_time": "2024-07-26T04:35:16.938229",
     "exception": false,
     "start_time": "2024-07-26T04:35:16.871915",
     "status": "completed"
    },
    "tags": []
   },
   "outputs": [],
   "source": [
    "def set_seed(seed=42):\n",
    "    random.seed(seed)\n",
    "    np.random.seed(seed)\n",
    "    torch.manual_seed(seed)\n",
    "    if torch.cuda.is_available():\n",
    "        torch.cuda.manual_seed(seed)\n",
    "        torch.cuda.manual_seed_all(seed)\n",
    "    torch.backends.cudnn.benchmark = False\n",
    "    torch.backends.cudnn.deterministic = True"
   ]
  },
  {
   "cell_type": "code",
   "execution_count": 12,
   "id": "b5a641be",
   "metadata": {
    "execution": {
     "iopub.execute_input": "2024-07-26T04:35:17.057091Z",
     "iopub.status.busy": "2024-07-26T04:35:17.056588Z",
     "iopub.status.idle": "2024-07-26T04:35:17.062739Z",
     "shell.execute_reply": "2024-07-26T04:35:17.061946Z"
    },
    "papermill": {
     "duration": 0.068087,
     "end_time": "2024-07-26T04:35:17.064493",
     "exception": false,
     "start_time": "2024-07-26T04:35:16.996406",
     "status": "completed"
    },
    "tags": []
   },
   "outputs": [],
   "source": [
    "def comp_score(solution: pd.DataFrame, submission: pd.DataFrame, row_id_column_name: str, min_tpr: float=0.80):\n",
    "    v_gt = abs(np.asarray(solution.values)-1)\n",
    "    v_pred = np.array([1.0 - x for x in submission.values])\n",
    "    max_fpr = abs(1-min_tpr)\n",
    "    partial_auc_scaled = roc_auc_score(v_gt, v_pred, max_fpr=max_fpr)\n",
    "    # change scale from [0.5, 1.0] to [0.5 * max_fpr**2, max_fpr]\n",
    "    # https://math.stackexchange.com/questions/914823/shift-numbers-into-a-different-range\n",
    "    partial_auc = 0.5 * max_fpr**2 + (max_fpr - 0.5 * max_fpr**2) / (1.0 - 0.5) * (partial_auc_scaled - 0.5)\n",
    "    return partial_auc"
   ]
  },
  {
   "cell_type": "code",
   "execution_count": 13,
   "id": "9e70189b",
   "metadata": {
    "execution": {
     "iopub.execute_input": "2024-07-26T04:35:17.184601Z",
     "iopub.status.busy": "2024-07-26T04:35:17.184302Z",
     "iopub.status.idle": "2024-07-26T04:35:17.188376Z",
     "shell.execute_reply": "2024-07-26T04:35:17.187500Z"
    },
    "papermill": {
     "duration": 0.065915,
     "end_time": "2024-07-26T04:35:17.190397",
     "exception": false,
     "start_time": "2024-07-26T04:35:17.124482",
     "status": "completed"
    },
    "tags": []
   },
   "outputs": [],
   "source": [
    "set_seed()"
   ]
  },
  {
   "cell_type": "code",
   "execution_count": 14,
   "id": "c028a6c5",
   "metadata": {
    "execution": {
     "iopub.execute_input": "2024-07-26T04:35:17.309009Z",
     "iopub.status.busy": "2024-07-26T04:35:17.308708Z",
     "iopub.status.idle": "2024-07-26T04:35:17.415137Z",
     "shell.execute_reply": "2024-07-26T04:35:17.414353Z"
    },
    "papermill": {
     "duration": 0.168505,
     "end_time": "2024-07-26T04:35:17.417443",
     "exception": false,
     "start_time": "2024-07-26T04:35:17.248938",
     "status": "completed"
    },
    "tags": []
   },
   "outputs": [],
   "source": [
    "df_train = df.copy()"
   ]
  },
  {
   "cell_type": "code",
   "execution_count": 15,
   "id": "3686bc91",
   "metadata": {
    "execution": {
     "iopub.execute_input": "2024-07-26T04:35:17.536929Z",
     "iopub.status.busy": "2024-07-26T04:35:17.536633Z",
     "iopub.status.idle": "2024-07-26T04:35:18.224605Z",
     "shell.execute_reply": "2024-07-26T04:35:18.223805Z"
    },
    "papermill": {
     "duration": 0.750181,
     "end_time": "2024-07-26T04:35:18.227007",
     "exception": false,
     "start_time": "2024-07-26T04:35:17.476826",
     "status": "completed"
    },
    "tags": []
   },
   "outputs": [],
   "source": [
    "gkf = GroupKFold(n_splits=kfold)\n",
    "df_train[\"fold\"] = -1\n",
    "for idx, (train_idx, val_idx) in enumerate(gkf.split(df_train, df_train[\"target\"], groups=df_train[\"patient_id\"])):\n",
    "    df_train.loc[val_idx, \"fold\"] = idx"
   ]
  },
  {
   "cell_type": "code",
   "execution_count": 16,
   "id": "0d60798b",
   "metadata": {
    "execution": {
     "iopub.execute_input": "2024-07-26T04:35:18.347478Z",
     "iopub.status.busy": "2024-07-26T04:35:18.347043Z",
     "iopub.status.idle": "2024-07-26T04:52:51.270301Z",
     "shell.execute_reply": "2024-07-26T04:52:51.268964Z"
    },
    "papermill": {
     "duration": 1052.985943,
     "end_time": "2024-07-26T04:52:51.273057",
     "exception": false,
     "start_time": "2024-07-26T04:35:18.287114",
     "status": "completed"
    },
    "tags": []
   },
   "outputs": [
    {
     "name": "stderr",
     "output_type": "stream",
     "text": [
      "100%|██████████| 84/84 [00:13<00:00,  6.24it/s, loss=epoch: 0--loss: 39.478397369384766 --l_cls: 3.4125454425811768 -- l_ent: 36.065853118896484]\n"
     ]
    },
    {
     "name": "stdout",
     "output_type": "stream",
     "text": [
      "epoch: 0 - Partial AUC Score: 0.10634\n"
     ]
    },
    {
     "name": "stderr",
     "output_type": "stream",
     "text": [
      "100%|██████████| 84/84 [00:13<00:00,  6.44it/s, loss=epoch: 1--loss: 23.951841354370117 --l_cls: 3.0293314456939697 -- l_ent: 20.922510147094727]\n"
     ]
    },
    {
     "name": "stdout",
     "output_type": "stream",
     "text": [
      "epoch: 1 - Partial AUC Score: 0.11973\n"
     ]
    },
    {
     "name": "stderr",
     "output_type": "stream",
     "text": [
      "100%|██████████| 84/84 [00:12<00:00,  6.67it/s, loss=epoch: 2--loss: 120.65739440917969 --l_cls: 95.93675994873047 -- l_ent: 24.720630645751953]\n"
     ]
    },
    {
     "name": "stdout",
     "output_type": "stream",
     "text": [
      "epoch: 2 - Partial AUC Score: 0.12538\n"
     ]
    },
    {
     "name": "stderr",
     "output_type": "stream",
     "text": [
      "100%|██████████| 84/84 [00:12<00:00,  6.80it/s, loss=epoch: 3--loss: 65.28377532958984 --l_cls: 42.63838577270508 -- l_ent: 22.6453914642334]\n"
     ]
    },
    {
     "name": "stdout",
     "output_type": "stream",
     "text": [
      "epoch: 3 - Partial AUC Score: 0.13032\n"
     ]
    },
    {
     "name": "stderr",
     "output_type": "stream",
     "text": [
      "100%|██████████| 84/84 [00:12<00:00,  6.92it/s, loss=epoch: 4--loss: 50.40668487548828 --l_cls: 23.498464584350586 -- l_ent: 26.908222198486328]\n"
     ]
    },
    {
     "name": "stdout",
     "output_type": "stream",
     "text": [
      "epoch: 4 - Partial AUC Score: 0.13218\n"
     ]
    },
    {
     "name": "stderr",
     "output_type": "stream",
     "text": [
      "100%|██████████| 84/84 [00:12<00:00,  6.76it/s, loss=epoch: 5--loss: 35.29804611206055 --l_cls: 10.167963981628418 -- l_ent: 25.130081176757812]\n"
     ]
    },
    {
     "name": "stdout",
     "output_type": "stream",
     "text": [
      "epoch: 5 - Partial AUC Score: 0.13301\n"
     ]
    },
    {
     "name": "stderr",
     "output_type": "stream",
     "text": [
      "100%|██████████| 84/84 [00:12<00:00,  6.73it/s, loss=epoch: 6--loss: 21.520263671875 --l_cls: 8.16928768157959 -- l_ent: 13.350976943969727]\n"
     ]
    },
    {
     "name": "stdout",
     "output_type": "stream",
     "text": [
      "epoch: 6 - Partial AUC Score: 0.13307\n"
     ]
    },
    {
     "name": "stderr",
     "output_type": "stream",
     "text": [
      "100%|██████████| 84/84 [00:12<00:00,  6.69it/s, loss=epoch: 7--loss: 29.197547912597656 --l_cls: 15.160639762878418 -- l_ent: 14.036908149719238]\n"
     ]
    },
    {
     "name": "stdout",
     "output_type": "stream",
     "text": [
      "epoch: 7 - Partial AUC Score: 0.13422\n"
     ]
    },
    {
     "name": "stderr",
     "output_type": "stream",
     "text": [
      "100%|██████████| 84/84 [00:12<00:00,  6.68it/s, loss=epoch: 8--loss: 26.17302703857422 --l_cls: 10.164652824401855 -- l_ent: 16.00837516784668]\n"
     ]
    },
    {
     "name": "stdout",
     "output_type": "stream",
     "text": [
      "epoch: 8 - Partial AUC Score: 0.13352\n"
     ]
    },
    {
     "name": "stderr",
     "output_type": "stream",
     "text": [
      "100%|██████████| 84/84 [00:13<00:00,  6.44it/s, loss=epoch: 9--loss: 73.21129608154297 --l_cls: 52.05058670043945 -- l_ent: 21.16071128845215]\n"
     ]
    },
    {
     "name": "stdout",
     "output_type": "stream",
     "text": [
      "epoch: 9 - Partial AUC Score: 0.13467\n"
     ]
    },
    {
     "name": "stderr",
     "output_type": "stream",
     "text": [
      "100%|██████████| 84/84 [00:12<00:00,  6.54it/s, loss=epoch: 10--loss: 25.77043914794922 --l_cls: 19.068628311157227 -- l_ent: 6.701809883117676]\n"
     ]
    },
    {
     "name": "stdout",
     "output_type": "stream",
     "text": [
      "epoch: 10 - Partial AUC Score: 0.13372\n"
     ]
    },
    {
     "name": "stderr",
     "output_type": "stream",
     "text": [
      "100%|██████████| 84/84 [00:12<00:00,  6.49it/s, loss=epoch: 11--loss: 18.311609268188477 --l_cls: 5.217589855194092 -- l_ent: 13.094018936157227]\n"
     ]
    },
    {
     "name": "stdout",
     "output_type": "stream",
     "text": [
      "epoch: 11 - Partial AUC Score: 0.13384\n"
     ]
    },
    {
     "name": "stderr",
     "output_type": "stream",
     "text": [
      "100%|██████████| 84/84 [00:12<00:00,  6.53it/s, loss=epoch: 12--loss: 33.6170539855957 --l_cls: 11.485278129577637 -- l_ent: 22.131776809692383]\n"
     ]
    },
    {
     "name": "stdout",
     "output_type": "stream",
     "text": [
      "epoch: 12 - Partial AUC Score: 0.13396\n"
     ]
    },
    {
     "name": "stderr",
     "output_type": "stream",
     "text": [
      "100%|██████████| 84/84 [00:12<00:00,  6.55it/s, loss=epoch: 13--loss: 15.054200172424316 --l_cls: 11.670591354370117 -- l_ent: 3.38360857963562]\n"
     ]
    },
    {
     "name": "stdout",
     "output_type": "stream",
     "text": [
      "epoch: 13 - Partial AUC Score: 0.13151\n"
     ]
    },
    {
     "name": "stderr",
     "output_type": "stream",
     "text": [
      "100%|██████████| 84/84 [00:12<00:00,  6.56it/s, loss=epoch: 14--loss: 34.87299728393555 --l_cls: 24.009511947631836 -- l_ent: 10.863486289978027]\n"
     ]
    },
    {
     "name": "stdout",
     "output_type": "stream",
     "text": [
      "epoch: 14 - Partial AUC Score: 0.13373\n"
     ]
    },
    {
     "name": "stderr",
     "output_type": "stream",
     "text": [
      "100%|██████████| 84/84 [00:12<00:00,  6.59it/s, loss=epoch: 15--loss: 26.883813858032227 --l_cls: 20.845001220703125 -- l_ent: 6.038812160491943]\n",
      "100%|██████████| 84/84 [00:13<00:00,  6.01it/s, loss=epoch: 0--loss: 109.8994140625 --l_cls: 45.13736343383789 -- l_ent: 64.76204681396484]\n"
     ]
    },
    {
     "name": "stdout",
     "output_type": "stream",
     "text": [
      "epoch: 0 - Partial AUC Score: 0.10632\n"
     ]
    },
    {
     "name": "stderr",
     "output_type": "stream",
     "text": [
      "100%|██████████| 84/84 [00:13<00:00,  6.21it/s, loss=epoch: 1--loss: 15.111927032470703 --l_cls: 9.069674491882324 -- l_ent: 6.042252540588379]\n"
     ]
    },
    {
     "name": "stdout",
     "output_type": "stream",
     "text": [
      "epoch: 1 - Partial AUC Score: 0.10688\n"
     ]
    },
    {
     "name": "stderr",
     "output_type": "stream",
     "text": [
      "100%|██████████| 84/84 [00:14<00:00,  5.93it/s, loss=epoch: 2--loss: 15.122093200683594 --l_cls: 3.909868001937866 -- l_ent: 11.212224960327148]\n"
     ]
    },
    {
     "name": "stdout",
     "output_type": "stream",
     "text": [
      "epoch: 2 - Partial AUC Score: 0.11105\n"
     ]
    },
    {
     "name": "stderr",
     "output_type": "stream",
     "text": [
      "100%|██████████| 84/84 [00:13<00:00,  6.10it/s, loss=epoch: 3--loss: 16.51709747314453 --l_cls: 4.51080322265625 -- l_ent: 12.006293296813965]\n"
     ]
    },
    {
     "name": "stdout",
     "output_type": "stream",
     "text": [
      "epoch: 3 - Partial AUC Score: 0.12124\n"
     ]
    },
    {
     "name": "stderr",
     "output_type": "stream",
     "text": [
      "100%|██████████| 84/84 [00:13<00:00,  6.26it/s, loss=epoch: 4--loss: 24.142459869384766 --l_cls: 11.122983932495117 -- l_ent: 13.019476890563965]\n"
     ]
    },
    {
     "name": "stdout",
     "output_type": "stream",
     "text": [
      "epoch: 4 - Partial AUC Score: 0.12389\n"
     ]
    },
    {
     "name": "stderr",
     "output_type": "stream",
     "text": [
      "100%|██████████| 84/84 [00:13<00:00,  6.18it/s, loss=epoch: 5--loss: 23.05474853515625 --l_cls: 11.909868240356445 -- l_ent: 11.144879341125488]\n"
     ]
    },
    {
     "name": "stdout",
     "output_type": "stream",
     "text": [
      "epoch: 5 - Partial AUC Score: 0.12053\n"
     ]
    },
    {
     "name": "stderr",
     "output_type": "stream",
     "text": [
      "100%|██████████| 84/84 [00:13<00:00,  6.15it/s, loss=epoch: 6--loss: 21.260967254638672 --l_cls: 11.621567726135254 -- l_ent: 9.639398574829102]\n"
     ]
    },
    {
     "name": "stdout",
     "output_type": "stream",
     "text": [
      "epoch: 6 - Partial AUC Score: 0.12006\n"
     ]
    },
    {
     "name": "stderr",
     "output_type": "stream",
     "text": [
      "100%|██████████| 84/84 [00:13<00:00,  6.18it/s, loss=epoch: 7--loss: 7.665403366088867 --l_cls: 3.5777080059051514 -- l_ent: 4.087695121765137]\n"
     ]
    },
    {
     "name": "stdout",
     "output_type": "stream",
     "text": [
      "epoch: 7 - Partial AUC Score: 0.12043\n"
     ]
    },
    {
     "name": "stderr",
     "output_type": "stream",
     "text": [
      "100%|██████████| 84/84 [00:13<00:00,  6.19it/s, loss=epoch: 8--loss: 10.027875900268555 --l_cls: 3.842390537261963 -- l_ent: 6.185485363006592]\n"
     ]
    },
    {
     "name": "stdout",
     "output_type": "stream",
     "text": [
      "epoch: 8 - Partial AUC Score: 0.12168\n"
     ]
    },
    {
     "name": "stderr",
     "output_type": "stream",
     "text": [
      "100%|██████████| 84/84 [00:13<00:00,  6.22it/s, loss=epoch: 9--loss: 7.109288215637207 --l_cls: 4.524547576904297 -- l_ent: 2.5847408771514893]\n"
     ]
    },
    {
     "name": "stdout",
     "output_type": "stream",
     "text": [
      "epoch: 9 - Partial AUC Score: 0.11948\n"
     ]
    },
    {
     "name": "stderr",
     "output_type": "stream",
     "text": [
      "100%|██████████| 84/84 [00:13<00:00,  6.06it/s, loss=epoch: 10--loss: 9.856277465820312 --l_cls: 5.227377891540527 -- l_ent: 4.628900051116943]\n",
      "100%|██████████| 84/84 [00:14<00:00,  5.97it/s, loss=epoch: 0--loss: 220.33798217773438 --l_cls: 195.38624572753906 -- l_ent: 24.95173454284668]\n"
     ]
    },
    {
     "name": "stdout",
     "output_type": "stream",
     "text": [
      "epoch: 0 - Partial AUC Score: 0.10904\n"
     ]
    },
    {
     "name": "stderr",
     "output_type": "stream",
     "text": [
      "100%|██████████| 84/84 [00:13<00:00,  6.30it/s, loss=epoch: 1--loss: 12.74338436126709 --l_cls: 3.1369731426239014 -- l_ent: 9.60641098022461]\n"
     ]
    },
    {
     "name": "stdout",
     "output_type": "stream",
     "text": [
      "epoch: 1 - Partial AUC Score: 0.14276\n"
     ]
    },
    {
     "name": "stderr",
     "output_type": "stream",
     "text": [
      "100%|██████████| 84/84 [00:13<00:00,  6.05it/s, loss=epoch: 2--loss: 23.672698974609375 --l_cls: 8.492779731750488 -- l_ent: 15.179919242858887]\n"
     ]
    },
    {
     "name": "stdout",
     "output_type": "stream",
     "text": [
      "epoch: 2 - Partial AUC Score: 0.15023\n"
     ]
    },
    {
     "name": "stderr",
     "output_type": "stream",
     "text": [
      "100%|██████████| 84/84 [00:13<00:00,  6.24it/s, loss=epoch: 3--loss: 121.91082000732422 --l_cls: 108.06587219238281 -- l_ent: 13.844949722290039]\n"
     ]
    },
    {
     "name": "stdout",
     "output_type": "stream",
     "text": [
      "epoch: 3 - Partial AUC Score: 0.13118\n"
     ]
    },
    {
     "name": "stderr",
     "output_type": "stream",
     "text": [
      "100%|██████████| 84/84 [00:13<00:00,  6.12it/s, loss=epoch: 4--loss: 19.973764419555664 --l_cls: 7.204634189605713 -- l_ent: 12.76913070678711]\n"
     ]
    },
    {
     "name": "stdout",
     "output_type": "stream",
     "text": [
      "epoch: 4 - Partial AUC Score: 0.14456\n"
     ]
    },
    {
     "name": "stderr",
     "output_type": "stream",
     "text": [
      "100%|██████████| 84/84 [00:13<00:00,  6.07it/s, loss=epoch: 5--loss: 24.28902816772461 --l_cls: 14.041964530944824 -- l_ent: 10.247062683105469]\n"
     ]
    },
    {
     "name": "stdout",
     "output_type": "stream",
     "text": [
      "epoch: 5 - Partial AUC Score: 0.14718\n"
     ]
    },
    {
     "name": "stderr",
     "output_type": "stream",
     "text": [
      "100%|██████████| 84/84 [00:13<00:00,  6.05it/s, loss=epoch: 6--loss: 3.4501209259033203 --l_cls: 1.2402344942092896 -- l_ent: 2.209886312484741]\n"
     ]
    },
    {
     "name": "stdout",
     "output_type": "stream",
     "text": [
      "epoch: 6 - Partial AUC Score: 0.13902\n"
     ]
    },
    {
     "name": "stderr",
     "output_type": "stream",
     "text": [
      "100%|██████████| 84/84 [00:13<00:00,  6.05it/s, loss=epoch: 7--loss: 7.631477355957031 --l_cls: 2.623373508453369 -- l_ent: 5.008103847503662]\n"
     ]
    },
    {
     "name": "stdout",
     "output_type": "stream",
     "text": [
      "epoch: 7 - Partial AUC Score: 0.14059\n"
     ]
    },
    {
     "name": "stderr",
     "output_type": "stream",
     "text": [
      "100%|██████████| 84/84 [00:13<00:00,  6.01it/s, loss=epoch: 8--loss: 25.05340576171875 --l_cls: 18.52168083190918 -- l_ent: 6.5317254066467285]\n",
      "100%|██████████| 84/84 [00:13<00:00,  6.01it/s, loss=epoch: 0--loss: 182.49575805664062 --l_cls: 77.8823013305664 -- l_ent: 104.61345672607422]\n"
     ]
    },
    {
     "name": "stdout",
     "output_type": "stream",
     "text": [
      "epoch: 0 - Partial AUC Score: 0.11742\n"
     ]
    },
    {
     "name": "stderr",
     "output_type": "stream",
     "text": [
      "100%|██████████| 84/84 [00:13<00:00,  6.08it/s, loss=epoch: 1--loss: 28.16489601135254 --l_cls: 9.461755752563477 -- l_ent: 18.703140258789062]\n"
     ]
    },
    {
     "name": "stdout",
     "output_type": "stream",
     "text": [
      "epoch: 1 - Partial AUC Score: 0.11495\n"
     ]
    },
    {
     "name": "stderr",
     "output_type": "stream",
     "text": [
      "100%|██████████| 84/84 [00:13<00:00,  6.04it/s, loss=epoch: 2--loss: 274.47021484375 --l_cls: 256.9034423828125 -- l_ent: 17.5667724609375]\n"
     ]
    },
    {
     "name": "stdout",
     "output_type": "stream",
     "text": [
      "epoch: 2 - Partial AUC Score: 0.12324\n"
     ]
    },
    {
     "name": "stderr",
     "output_type": "stream",
     "text": [
      "100%|██████████| 84/84 [00:13<00:00,  6.14it/s, loss=epoch: 3--loss: 7.601358413696289 --l_cls: 2.204042434692383 -- l_ent: 5.397315979003906]\n"
     ]
    },
    {
     "name": "stdout",
     "output_type": "stream",
     "text": [
      "epoch: 3 - Partial AUC Score: 0.12492\n"
     ]
    },
    {
     "name": "stderr",
     "output_type": "stream",
     "text": [
      "100%|██████████| 84/84 [00:14<00:00,  5.99it/s, loss=epoch: 4--loss: 62.07304763793945 --l_cls: 49.97394943237305 -- l_ent: 12.099098205566406]\n"
     ]
    },
    {
     "name": "stdout",
     "output_type": "stream",
     "text": [
      "epoch: 4 - Partial AUC Score: 0.12552\n"
     ]
    },
    {
     "name": "stderr",
     "output_type": "stream",
     "text": [
      "100%|██████████| 84/84 [00:13<00:00,  6.06it/s, loss=epoch: 5--loss: 4.543774604797363 --l_cls: 0.9608314633369446 -- l_ent: 3.5829429626464844]\n"
     ]
    },
    {
     "name": "stdout",
     "output_type": "stream",
     "text": [
      "epoch: 5 - Partial AUC Score: 0.12776\n"
     ]
    },
    {
     "name": "stderr",
     "output_type": "stream",
     "text": [
      "100%|██████████| 84/84 [00:13<00:00,  6.02it/s, loss=epoch: 6--loss: 16.92107391357422 --l_cls: 9.520340919494629 -- l_ent: 7.400732517242432]\n"
     ]
    },
    {
     "name": "stdout",
     "output_type": "stream",
     "text": [
      "epoch: 6 - Partial AUC Score: 0.13002\n"
     ]
    },
    {
     "name": "stderr",
     "output_type": "stream",
     "text": [
      "100%|██████████| 84/84 [00:13<00:00,  6.02it/s, loss=epoch: 7--loss: 79.4237289428711 --l_cls: 67.6695785522461 -- l_ent: 11.754151344299316]\n"
     ]
    },
    {
     "name": "stdout",
     "output_type": "stream",
     "text": [
      "epoch: 7 - Partial AUC Score: 0.12916\n"
     ]
    },
    {
     "name": "stderr",
     "output_type": "stream",
     "text": [
      "100%|██████████| 84/84 [00:13<00:00,  6.12it/s, loss=epoch: 8--loss: 11.922637939453125 --l_cls: 8.164815902709961 -- l_ent: 3.757821798324585]\n"
     ]
    },
    {
     "name": "stdout",
     "output_type": "stream",
     "text": [
      "epoch: 8 - Partial AUC Score: 0.13497\n"
     ]
    },
    {
     "name": "stderr",
     "output_type": "stream",
     "text": [
      "100%|██████████| 84/84 [00:13<00:00,  6.17it/s, loss=epoch: 9--loss: 4.1697797775268555 --l_cls: 0.982780933380127 -- l_ent: 3.1869986057281494]\n"
     ]
    },
    {
     "name": "stdout",
     "output_type": "stream",
     "text": [
      "epoch: 9 - Partial AUC Score: 0.13323\n"
     ]
    },
    {
     "name": "stderr",
     "output_type": "stream",
     "text": [
      "100%|██████████| 84/84 [00:13<00:00,  6.15it/s, loss=epoch: 10--loss: 5.954334259033203 --l_cls: 1.871267557144165 -- l_ent: 4.083066463470459]\n"
     ]
    },
    {
     "name": "stdout",
     "output_type": "stream",
     "text": [
      "epoch: 10 - Partial AUC Score: 0.13303\n"
     ]
    },
    {
     "name": "stderr",
     "output_type": "stream",
     "text": [
      "100%|██████████| 84/84 [00:13<00:00,  6.14it/s, loss=epoch: 11--loss: 10.546645164489746 --l_cls: 3.40971302986145 -- l_ent: 7.136932373046875]\n"
     ]
    },
    {
     "name": "stdout",
     "output_type": "stream",
     "text": [
      "epoch: 11 - Partial AUC Score: 0.13175\n"
     ]
    },
    {
     "name": "stderr",
     "output_type": "stream",
     "text": [
      "100%|██████████| 84/84 [00:13<00:00,  6.09it/s, loss=epoch: 12--loss: 9.722038269042969 --l_cls: 3.112870693206787 -- l_ent: 6.609167575836182]\n"
     ]
    },
    {
     "name": "stdout",
     "output_type": "stream",
     "text": [
      "epoch: 12 - Partial AUC Score: 0.13236\n"
     ]
    },
    {
     "name": "stderr",
     "output_type": "stream",
     "text": [
      "100%|██████████| 84/84 [00:13<00:00,  6.10it/s, loss=epoch: 13--loss: 4.790816307067871 --l_cls: 1.1299736499786377 -- l_ent: 3.6608428955078125]\n"
     ]
    },
    {
     "name": "stdout",
     "output_type": "stream",
     "text": [
      "epoch: 13 - Partial AUC Score: 0.13459\n"
     ]
    },
    {
     "name": "stderr",
     "output_type": "stream",
     "text": [
      "100%|██████████| 84/84 [00:13<00:00,  6.14it/s, loss=epoch: 14--loss: 9.540779113769531 --l_cls: 1.9783210754394531 -- l_ent: 7.562458038330078]\n"
     ]
    },
    {
     "name": "stdout",
     "output_type": "stream",
     "text": [
      "epoch: 14 - Partial AUC Score: 0.13560\n"
     ]
    },
    {
     "name": "stderr",
     "output_type": "stream",
     "text": [
      "100%|██████████| 84/84 [00:13<00:00,  6.16it/s, loss=epoch: 15--loss: 3.057746410369873 --l_cls: 0.9659927487373352 -- l_ent: 2.0917537212371826]\n"
     ]
    },
    {
     "name": "stdout",
     "output_type": "stream",
     "text": [
      "epoch: 15 - Partial AUC Score: 0.13519\n"
     ]
    },
    {
     "name": "stderr",
     "output_type": "stream",
     "text": [
      "100%|██████████| 84/84 [00:13<00:00,  6.07it/s, loss=epoch: 16--loss: 2.9026012420654297 --l_cls: 1.2180591821670532 -- l_ent: 1.6845420598983765]\n"
     ]
    },
    {
     "name": "stdout",
     "output_type": "stream",
     "text": [
      "epoch: 16 - Partial AUC Score: 0.13411\n"
     ]
    },
    {
     "name": "stderr",
     "output_type": "stream",
     "text": [
      "100%|██████████| 84/84 [00:13<00:00,  6.16it/s, loss=epoch: 17--loss: 0.848926305770874 --l_cls: 0.18854117393493652 -- l_ent: 0.6603851318359375]\n"
     ]
    },
    {
     "name": "stdout",
     "output_type": "stream",
     "text": [
      "epoch: 17 - Partial AUC Score: 0.13484\n"
     ]
    },
    {
     "name": "stderr",
     "output_type": "stream",
     "text": [
      "100%|██████████| 84/84 [00:13<00:00,  6.09it/s, loss=epoch: 18--loss: 11.05074691772461 --l_cls: 4.419528484344482 -- l_ent: 6.631217956542969]\n"
     ]
    },
    {
     "name": "stdout",
     "output_type": "stream",
     "text": [
      "epoch: 18 - Partial AUC Score: 0.13383\n"
     ]
    },
    {
     "name": "stderr",
     "output_type": "stream",
     "text": [
      "100%|██████████| 84/84 [00:13<00:00,  6.05it/s, loss=epoch: 19--loss: 11.018938064575195 --l_cls: 4.186402320861816 -- l_ent: 6.832535743713379]\n"
     ]
    },
    {
     "name": "stdout",
     "output_type": "stream",
     "text": [
      "epoch: 19 - Partial AUC Score: 0.13400\n"
     ]
    },
    {
     "name": "stderr",
     "output_type": "stream",
     "text": [
      "100%|██████████| 84/84 [00:13<00:00,  6.10it/s, loss=epoch: 20--loss: 2.8663811683654785 --l_cls: 0.7423807382583618 -- l_ent: 2.1240005493164062]\n",
      "100%|██████████| 84/84 [00:14<00:00,  5.99it/s, loss=epoch: 0--loss: 28.83861541748047 --l_cls: 6.976803779602051 -- l_ent: 21.8618106842041]\n"
     ]
    },
    {
     "name": "stdout",
     "output_type": "stream",
     "text": [
      "epoch: 0 - Partial AUC Score: 0.08510\n"
     ]
    },
    {
     "name": "stderr",
     "output_type": "stream",
     "text": [
      "100%|██████████| 84/84 [00:14<00:00,  5.96it/s, loss=epoch: 1--loss: 18.04572105407715 --l_cls: 4.539994239807129 -- l_ent: 13.50572681427002]\n"
     ]
    },
    {
     "name": "stdout",
     "output_type": "stream",
     "text": [
      "epoch: 1 - Partial AUC Score: 0.09571\n"
     ]
    },
    {
     "name": "stderr",
     "output_type": "stream",
     "text": [
      "100%|██████████| 84/84 [00:13<00:00,  6.12it/s, loss=epoch: 2--loss: 12.314702033996582 --l_cls: 5.548490047454834 -- l_ent: 6.766211986541748]\n"
     ]
    },
    {
     "name": "stdout",
     "output_type": "stream",
     "text": [
      "epoch: 2 - Partial AUC Score: 0.08238\n"
     ]
    },
    {
     "name": "stderr",
     "output_type": "stream",
     "text": [
      "100%|██████████| 84/84 [00:13<00:00,  6.05it/s, loss=epoch: 3--loss: 10.912632942199707 --l_cls: 2.6808178424835205 -- l_ent: 8.231815338134766]\n"
     ]
    },
    {
     "name": "stdout",
     "output_type": "stream",
     "text": [
      "epoch: 3 - Partial AUC Score: 0.09913\n"
     ]
    },
    {
     "name": "stderr",
     "output_type": "stream",
     "text": [
      "100%|██████████| 84/84 [00:13<00:00,  6.04it/s, loss=epoch: 4--loss: 5.556187629699707 --l_cls: 2.162412166595459 -- l_ent: 3.393775701522827]\n"
     ]
    },
    {
     "name": "stdout",
     "output_type": "stream",
     "text": [
      "epoch: 4 - Partial AUC Score: 0.09828\n"
     ]
    },
    {
     "name": "stderr",
     "output_type": "stream",
     "text": [
      "100%|██████████| 84/84 [00:13<00:00,  6.06it/s, loss=epoch: 5--loss: 1.9879988431930542 --l_cls: 0.9694887399673462 -- l_ent: 1.018510103225708]\n"
     ]
    },
    {
     "name": "stdout",
     "output_type": "stream",
     "text": [
      "epoch: 5 - Partial AUC Score: 0.08678\n"
     ]
    },
    {
     "name": "stderr",
     "output_type": "stream",
     "text": [
      "100%|██████████| 84/84 [00:14<00:00,  5.98it/s, loss=epoch: 6--loss: 8.21368408203125 --l_cls: 4.198449611663818 -- l_ent: 4.015234470367432]\n"
     ]
    },
    {
     "name": "stdout",
     "output_type": "stream",
     "text": [
      "epoch: 6 - Partial AUC Score: 0.07319\n"
     ]
    },
    {
     "name": "stderr",
     "output_type": "stream",
     "text": [
      "100%|██████████| 84/84 [00:13<00:00,  6.06it/s, loss=epoch: 7--loss: 1.781416654586792 --l_cls: 0.7897208333015442 -- l_ent: 0.9916958212852478]\n"
     ]
    },
    {
     "name": "stdout",
     "output_type": "stream",
     "text": [
      "epoch: 7 - Partial AUC Score: 0.07510\n"
     ]
    },
    {
     "name": "stderr",
     "output_type": "stream",
     "text": [
      "100%|██████████| 84/84 [00:14<00:00,  5.99it/s, loss=epoch: 8--loss: 7.570220947265625 --l_cls: 3.073209047317505 -- l_ent: 4.497011661529541]\n"
     ]
    },
    {
     "name": "stdout",
     "output_type": "stream",
     "text": [
      "epoch: 8 - Partial AUC Score: 0.08106\n"
     ]
    },
    {
     "name": "stderr",
     "output_type": "stream",
     "text": [
      "100%|██████████| 84/84 [00:13<00:00,  6.00it/s, loss=epoch: 9--loss: 18.415102005004883 --l_cls: 7.700491428375244 -- l_ent: 10.714611053466797]\n"
     ]
    }
   ],
   "source": [
    "models = []\n",
    "for fold in range(5):\n",
    "    _df_train = df_train[df_train[\"fold\"] != fold].reset_index(drop=True)\n",
    "    _df_valid = df_train[df_train[\"fold\"] == fold].reset_index(drop=True)\n",
    "    #train\n",
    "    mask = np.isin(df.patient_id.unique(), _df_train.patient_id.unique())\n",
    "    idx = np.where(mask)[0]\n",
    "    data_train_list = list(map(lambda i: data_list[i] ,idx))\n",
    "    #val\n",
    "    mask = np.isin(df.patient_id.unique(), _df_valid.patient_id.unique())\n",
    "    idx = np.where(mask)[0]\n",
    "    data_valid_list = list(map(lambda i: data_list[i] ,idx))\n",
    "\n",
    "    #loader\n",
    "    train_loader = DataLoader(data_train_list, batch_size=batch_size, shuffle=True, \n",
    "                              num_workers = 4, persistent_workers=True)\n",
    "    valid_loader = DataLoader(data_valid_list, batch_size=batch_size, shuffle=False,\n",
    "                              num_workers = 4, persistent_workers=True)\n",
    "    \n",
    "    #modeling\n",
    "    model = GNN_Model().cuda()\n",
    "    optimizer = optim.AdamW(model.parameters())\n",
    "    model.fit(train_loader, optimizer, fold)\n",
    "    models.append(model)\n",
    "    torch.cuda.empty_cache()"
   ]
  },
  {
   "cell_type": "code",
   "execution_count": null,
   "id": "19fe1e0b",
   "metadata": {
    "papermill": {
     "duration": 0.912394,
     "end_time": "2024-07-26T04:52:53.163794",
     "exception": false,
     "start_time": "2024-07-26T04:52:52.251400",
     "status": "completed"
    },
    "tags": []
   },
   "outputs": [],
   "source": []
  },
  {
   "cell_type": "code",
   "execution_count": 17,
   "id": "7cf78ddc",
   "metadata": {
    "execution": {
     "iopub.execute_input": "2024-07-26T04:52:55.013996Z",
     "iopub.status.busy": "2024-07-26T04:52:55.013605Z",
     "iopub.status.idle": "2024-07-26T04:52:55.019376Z",
     "shell.execute_reply": "2024-07-26T04:52:55.018460Z"
    },
    "papermill": {
     "duration": 0.907442,
     "end_time": "2024-07-26T04:52:55.021245",
     "exception": false,
     "start_time": "2024-07-26T04:52:54.113803",
     "status": "completed"
    },
    "tags": []
   },
   "outputs": [],
   "source": [
    "loader = DataLoader(data_list, batch_size=batch_size, shuffle=False, \n",
    "                              num_workers = 4, persistent_workers=True)"
   ]
  },
  {
   "cell_type": "code",
   "execution_count": 18,
   "id": "a7aa713f",
   "metadata": {
    "execution": {
     "iopub.execute_input": "2024-07-26T04:52:56.823043Z",
     "iopub.status.busy": "2024-07-26T04:52:56.822698Z",
     "iopub.status.idle": "2024-07-26T04:59:25.202079Z",
     "shell.execute_reply": "2024-07-26T04:59:25.200862Z"
    },
    "papermill": {
     "duration": 389.256196,
     "end_time": "2024-07-26T04:59:25.204552",
     "exception": false,
     "start_time": "2024-07-26T04:52:55.948356",
     "status": "completed"
    },
    "tags": []
   },
   "outputs": [
    {
     "name": "stderr",
     "output_type": "stream",
     "text": [
      "100%|██████████| 105/105 [01:17<00:00,  1.36it/s]\n",
      "100%|██████████| 105/105 [01:16<00:00,  1.36it/s]\n",
      "100%|██████████| 105/105 [01:16<00:00,  1.36it/s]\n",
      "100%|██████████| 105/105 [01:18<00:00,  1.35it/s]\n",
      "100%|██████████| 105/105 [01:18<00:00,  1.34it/s]\n"
     ]
    }
   ],
   "source": [
    "patient_ids = df.patient_id.unique()\n",
    "df_preds = []\n",
    "\n",
    "for fold in range(5):\n",
    "    model = models[fold]\n",
    "    model.load_state_dict(torch.load(f'/kaggle/working/model_{fold}.pt'))\n",
    "    model.eval()\n",
    "    df_pred = pd.DataFrame(df[['isic_id', 'patient_id']], columns=['isic_id', 'patient_id', f'pred_{fold}'],\n",
    "                               index=df.index)\n",
    "    for i, batch in enumerate(tqdm(loader)):\n",
    "        preds = model.predict(batch)\n",
    "        batch_idx = batch.batch.unique()\n",
    "        for idx in batch_idx:\n",
    "            pred_i = preds[batch.batch == idx].cpu().numpy()\n",
    "            sample_idx = idx + i * batch_size\n",
    "            patient_id = patient_ids[sample_idx]\n",
    "            df_pred.loc[df_pred.patient_id == patient_id, f'pred_{fold}'] = pred_i\n",
    "    df_preds.append(df_pred)\n",
    "df_preds = pd.concat(df_preds, axis=1)"
   ]
  },
  {
   "cell_type": "code",
   "execution_count": 19,
   "id": "5b3702b0",
   "metadata": {
    "execution": {
     "iopub.execute_input": "2024-07-26T04:59:27.130432Z",
     "iopub.status.busy": "2024-07-26T04:59:27.129735Z",
     "iopub.status.idle": "2024-07-26T04:59:34.373357Z",
     "shell.execute_reply": "2024-07-26T04:59:34.372573Z"
    },
    "papermill": {
     "duration": 8.233638,
     "end_time": "2024-07-26T04:59:34.375547",
     "exception": false,
     "start_time": "2024-07-26T04:59:26.141909",
     "status": "completed"
    },
    "tags": []
   },
   "outputs": [],
   "source": [
    "df_preds.to_csv('/kaggle/working/gnn_preds.csv')"
   ]
  },
  {
   "cell_type": "code",
   "execution_count": 20,
   "id": "2bf3b4bb",
   "metadata": {
    "execution": {
     "iopub.execute_input": "2024-07-26T04:59:36.269716Z",
     "iopub.status.busy": "2024-07-26T04:59:36.269367Z",
     "iopub.status.idle": "2024-07-26T04:59:36.273637Z",
     "shell.execute_reply": "2024-07-26T04:59:36.272703Z"
    },
    "papermill": {
     "duration": 0.976187,
     "end_time": "2024-07-26T04:59:36.275613",
     "exception": false,
     "start_time": "2024-07-26T04:59:35.299426",
     "status": "completed"
    },
    "tags": []
   },
   "outputs": [],
   "source": [
    "#df_preds[df.target==1].hist()"
   ]
  },
  {
   "cell_type": "code",
   "execution_count": null,
   "id": "adbf6053",
   "metadata": {
    "papermill": {
     "duration": 0.975265,
     "end_time": "2024-07-26T04:59:38.172051",
     "exception": false,
     "start_time": "2024-07-26T04:59:37.196786",
     "status": "completed"
    },
    "tags": []
   },
   "outputs": [],
   "source": []
  },
  {
   "cell_type": "code",
   "execution_count": null,
   "id": "8ed8af5c",
   "metadata": {
    "papermill": {
     "duration": 0.976077,
     "end_time": "2024-07-26T04:59:40.081348",
     "exception": false,
     "start_time": "2024-07-26T04:59:39.105271",
     "status": "completed"
    },
    "tags": []
   },
   "outputs": [],
   "source": []
  },
  {
   "cell_type": "code",
   "execution_count": null,
   "id": "848e739b",
   "metadata": {
    "papermill": {
     "duration": 1.059521,
     "end_time": "2024-07-26T04:59:42.063285",
     "exception": false,
     "start_time": "2024-07-26T04:59:41.003764",
     "status": "completed"
    },
    "tags": []
   },
   "outputs": [],
   "source": []
  }
 ],
 "metadata": {
  "kaggle": {
   "accelerator": "gpu",
   "dataSources": [
    {
     "databundleVersionId": 9094797,
     "sourceId": 63056,
     "sourceType": "competition"
    },
    {
     "datasetId": 5380713,
     "sourceId": 8942367,
     "sourceType": "datasetVersion"
    },
    {
     "datasetId": 5394829,
     "sourceId": 8984674,
     "sourceType": "datasetVersion"
    },
    {
     "datasetId": 5421837,
     "sourceId": 9000609,
     "sourceType": "datasetVersion"
    },
    {
     "sourceId": 188461448,
     "sourceType": "kernelVersion"
    }
   ],
   "dockerImageVersionId": 30747,
   "isGpuEnabled": true,
   "isInternetEnabled": true,
   "language": "python",
   "sourceType": "notebook"
  },
  "kernelspec": {
   "display_name": "Python 3",
   "language": "python",
   "name": "python3"
  },
  "language_info": {
   "codemirror_mode": {
    "name": "ipython",
    "version": 3
   },
   "file_extension": ".py",
   "mimetype": "text/x-python",
   "name": "python",
   "nbconvert_exporter": "python",
   "pygments_lexer": "ipython3",
   "version": "3.10.13"
  },
  "papermill": {
   "default_parameters": {},
   "duration": 1592.176978,
   "end_time": "2024-07-26T04:59:45.715875",
   "environment_variables": {},
   "exception": null,
   "input_path": "__notebook__.ipynb",
   "output_path": "__notebook__.ipynb",
   "parameters": {},
   "start_time": "2024-07-26T04:33:13.538897",
   "version": "2.5.0"
  }
 },
 "nbformat": 4,
 "nbformat_minor": 5
}
